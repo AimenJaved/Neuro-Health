{
 "cells": [
  {
   "cell_type": "markdown",
   "metadata": {},
   "source": [
    "# Logistics Regression,Machine Learning"
   ]
  },
  {
   "cell_type": "code",
   "execution_count": 272,
   "metadata": {},
   "outputs": [],
   "source": [
    "import pandas as pd\n",
    "from sklearn.linear_model import LogisticRegression\n",
    "from sklearn.metrics import accuracy_score\n",
    "from sklearn import preprocessing\n",
    "import seaborn as sns\n",
    "import numpy as np\n",
    "from matplotlib import pyplot as plt\n",
    "from pandas.plotting import scatter_matrix"
   ]
  },
  {
   "cell_type": "code",
   "execution_count": 273,
   "metadata": {},
   "outputs": [
    {
     "data": {
      "text/html": [
       "<div>\n",
       "<style scoped>\n",
       "    .dataframe tbody tr th:only-of-type {\n",
       "        vertical-align: middle;\n",
       "    }\n",
       "\n",
       "    .dataframe tbody tr th {\n",
       "        vertical-align: top;\n",
       "    }\n",
       "\n",
       "    .dataframe thead th {\n",
       "        text-align: right;\n",
       "    }\n",
       "</style>\n",
       "<table border=\"1\" class=\"dataframe\">\n",
       "  <thead>\n",
       "    <tr style=\"text-align: right;\">\n",
       "      <th></th>\n",
       "      <th>Delta</th>\n",
       "      <th>Theta</th>\n",
       "      <th>Alpha1</th>\n",
       "      <th>Alpha2</th>\n",
       "      <th>Beta1</th>\n",
       "      <th>Beta2</th>\n",
       "      <th>Gamma1</th>\n",
       "      <th>Gamma2</th>\n",
       "      <th>Activity_Name</th>\n",
       "    </tr>\n",
       "  </thead>\n",
       "  <tbody>\n",
       "    <tr>\n",
       "      <th>0</th>\n",
       "      <td>852296.0</td>\n",
       "      <td>1174005.0</td>\n",
       "      <td>13895.0</td>\n",
       "      <td>31914.0</td>\n",
       "      <td>33515.0</td>\n",
       "      <td>28454.0</td>\n",
       "      <td>30290.0</td>\n",
       "      <td>17683.0</td>\n",
       "      <td>climbing_and_going_down_stairs</td>\n",
       "    </tr>\n",
       "    <tr>\n",
       "      <th>1</th>\n",
       "      <td>183511.0</td>\n",
       "      <td>72393.0</td>\n",
       "      <td>40562.0</td>\n",
       "      <td>11919.0</td>\n",
       "      <td>8130.0</td>\n",
       "      <td>12679.0</td>\n",
       "      <td>3455.0</td>\n",
       "      <td>1316.0</td>\n",
       "      <td>climbing_and_going_down_stairs</td>\n",
       "    </tr>\n",
       "    <tr>\n",
       "      <th>2</th>\n",
       "      <td>842776.0</td>\n",
       "      <td>93302.0</td>\n",
       "      <td>40989.0</td>\n",
       "      <td>11661.0</td>\n",
       "      <td>5804.0</td>\n",
       "      <td>7385.0</td>\n",
       "      <td>11691.0</td>\n",
       "      <td>2240.0</td>\n",
       "      <td>climbing_and_going_down_stairs</td>\n",
       "    </tr>\n",
       "    <tr>\n",
       "      <th>3</th>\n",
       "      <td>73942.0</td>\n",
       "      <td>49816.0</td>\n",
       "      <td>471.0</td>\n",
       "      <td>7239.0</td>\n",
       "      <td>12778.0</td>\n",
       "      <td>2654.0</td>\n",
       "      <td>1752.0</td>\n",
       "      <td>611.0</td>\n",
       "      <td>climbing_and_going_down_stairs</td>\n",
       "    </tr>\n",
       "    <tr>\n",
       "      <th>4</th>\n",
       "      <td>75131.0</td>\n",
       "      <td>40052.0</td>\n",
       "      <td>40111.0</td>\n",
       "      <td>15599.0</td>\n",
       "      <td>71537.0</td>\n",
       "      <td>7763.0</td>\n",
       "      <td>5259.0</td>\n",
       "      <td>1198.0</td>\n",
       "      <td>climbing_and_going_down_stairs</td>\n",
       "    </tr>\n",
       "    <tr>\n",
       "      <th>5</th>\n",
       "      <td>189991.0</td>\n",
       "      <td>152211.0</td>\n",
       "      <td>41250.0</td>\n",
       "      <td>25150.0</td>\n",
       "      <td>25560.0</td>\n",
       "      <td>17781.0</td>\n",
       "      <td>5577.0</td>\n",
       "      <td>2019.0</td>\n",
       "      <td>climbing_and_going_down_stairs</td>\n",
       "    </tr>\n",
       "    <tr>\n",
       "      <th>6</th>\n",
       "      <td>1113565.0</td>\n",
       "      <td>229653.0</td>\n",
       "      <td>109451.0</td>\n",
       "      <td>83274.0</td>\n",
       "      <td>161981.0</td>\n",
       "      <td>38280.0</td>\n",
       "      <td>19900.0</td>\n",
       "      <td>7469.0</td>\n",
       "      <td>climbing_and_going_down_stairs</td>\n",
       "    </tr>\n",
       "    <tr>\n",
       "      <th>7</th>\n",
       "      <td>552368.0</td>\n",
       "      <td>256357.0</td>\n",
       "      <td>111059.0</td>\n",
       "      <td>43850.0</td>\n",
       "      <td>10993.0</td>\n",
       "      <td>30575.0</td>\n",
       "      <td>8952.0</td>\n",
       "      <td>2795.0</td>\n",
       "      <td>climbing_and_going_down_stairs</td>\n",
       "    </tr>\n",
       "    <tr>\n",
       "      <th>8</th>\n",
       "      <td>430940.0</td>\n",
       "      <td>184523.0</td>\n",
       "      <td>20613.0</td>\n",
       "      <td>48664.0</td>\n",
       "      <td>42567.0</td>\n",
       "      <td>45209.0</td>\n",
       "      <td>7670.0</td>\n",
       "      <td>6908.0</td>\n",
       "      <td>climbing_and_going_down_stairs</td>\n",
       "    </tr>\n",
       "    <tr>\n",
       "      <th>9</th>\n",
       "      <td>320319.0</td>\n",
       "      <td>193565.0</td>\n",
       "      <td>52896.0</td>\n",
       "      <td>15682.0</td>\n",
       "      <td>55345.0</td>\n",
       "      <td>15021.0</td>\n",
       "      <td>10386.0</td>\n",
       "      <td>8412.0</td>\n",
       "      <td>climbing_and_going_down_stairs</td>\n",
       "    </tr>\n",
       "  </tbody>\n",
       "</table>\n",
       "</div>"
      ],
      "text/plain": [
       "       Delta      Theta    Alpha1   Alpha2     Beta1    Beta2   Gamma1  \\\n",
       "0   852296.0  1174005.0   13895.0  31914.0   33515.0  28454.0  30290.0   \n",
       "1   183511.0    72393.0   40562.0  11919.0    8130.0  12679.0   3455.0   \n",
       "2   842776.0    93302.0   40989.0  11661.0    5804.0   7385.0  11691.0   \n",
       "3    73942.0    49816.0     471.0   7239.0   12778.0   2654.0   1752.0   \n",
       "4    75131.0    40052.0   40111.0  15599.0   71537.0   7763.0   5259.0   \n",
       "5   189991.0   152211.0   41250.0  25150.0   25560.0  17781.0   5577.0   \n",
       "6  1113565.0   229653.0  109451.0  83274.0  161981.0  38280.0  19900.0   \n",
       "7   552368.0   256357.0  111059.0  43850.0   10993.0  30575.0   8952.0   \n",
       "8   430940.0   184523.0   20613.0  48664.0   42567.0  45209.0   7670.0   \n",
       "9   320319.0   193565.0   52896.0  15682.0   55345.0  15021.0  10386.0   \n",
       "\n",
       "    Gamma2                   Activity_Name  \n",
       "0  17683.0  climbing_and_going_down_stairs  \n",
       "1   1316.0  climbing_and_going_down_stairs  \n",
       "2   2240.0  climbing_and_going_down_stairs  \n",
       "3    611.0  climbing_and_going_down_stairs  \n",
       "4   1198.0  climbing_and_going_down_stairs  \n",
       "5   2019.0  climbing_and_going_down_stairs  \n",
       "6   7469.0  climbing_and_going_down_stairs  \n",
       "7   2795.0  climbing_and_going_down_stairs  \n",
       "8   6908.0  climbing_and_going_down_stairs  \n",
       "9   8412.0  climbing_and_going_down_stairs  "
      ]
     },
     "execution_count": 273,
     "metadata": {},
     "output_type": "execute_result"
    }
   ],
   "source": [
    "#Reading DataFrame.\n",
    "Data=pd.read_csv('Desktop/fyp-data/EEG1.csv')\n",
    "Data['Activity_Name']=Data['Activity_Name'].str.replace(\"00_\",\"\")\n",
    "Data['Activity_Name']=Data['Activity_Name'].str.replace(\".csv\",\"\")\n",
    "Data['Activity_Name']=Data['Activity_Name'].str.replace(\" \",\"_\")\n",
    "Data.drop(' time',axis=1,inplace=True)\n",
    "Data.head(10)"
   ]
  },
  {
   "cell_type": "code",
   "execution_count": 274,
   "metadata": {},
   "outputs": [
    {
     "name": "stdout",
     "output_type": "stream",
     "text": [
      "<class 'pandas.core.frame.DataFrame'>\n",
      "RangeIndex: 448 entries, 0 to 447\n",
      "Data columns (total 9 columns):\n",
      " #   Column         Non-Null Count  Dtype  \n",
      "---  ------         --------------  -----  \n",
      " 0    Delta         447 non-null    float64\n",
      " 1    Theta         447 non-null    float64\n",
      " 2    Alpha1        447 non-null    float64\n",
      " 3    Alpha2        447 non-null    float64\n",
      " 4    Beta1         447 non-null    float64\n",
      " 5    Beta2         447 non-null    float64\n",
      " 6    Gamma1        447 non-null    float64\n",
      " 7    Gamma2        447 non-null    float64\n",
      " 8   Activity_Name  447 non-null    object \n",
      "dtypes: float64(8), object(1)\n",
      "memory usage: 31.6+ KB\n"
     ]
    }
   ],
   "source": [
    "Data.info()"
   ]
  },
  {
   "cell_type": "code",
   "execution_count": 275,
   "metadata": {},
   "outputs": [
    {
     "data": {
      "text/plain": [
       "array(['climbing_and_going_down_stairs', 'playing_music_game', 'sitting',\n",
       "       'walk', nan], dtype=object)"
      ]
     },
     "execution_count": 275,
     "metadata": {},
     "output_type": "execute_result"
    }
   ],
   "source": [
    "Data['Activity_Name'].unique()"
   ]
  },
  {
   "cell_type": "code",
   "execution_count": 276,
   "metadata": {},
   "outputs": [
    {
     "data": {
      "text/plain": [
       " Delta           1\n",
       " Theta           1\n",
       " Alpha1          1\n",
       " Alpha2          1\n",
       " Beta1           1\n",
       " Beta2           1\n",
       " Gamma1          1\n",
       " Gamma2          1\n",
       "Activity_Name    1\n",
       "dtype: int64"
      ]
     },
     "execution_count": 276,
     "metadata": {},
     "output_type": "execute_result"
    }
   ],
   "source": [
    "Data.isnull().sum()"
   ]
  },
  {
   "cell_type": "code",
   "execution_count": 277,
   "metadata": {},
   "outputs": [],
   "source": [
    "Data.dropna(inplace=True)"
   ]
  },
  {
   "cell_type": "code",
   "execution_count": 278,
   "metadata": {},
   "outputs": [
    {
     "data": {
      "text/plain": [
       " Delta           0\n",
       " Theta           0\n",
       " Alpha1          0\n",
       " Alpha2          0\n",
       " Beta1           0\n",
       " Beta2           0\n",
       " Gamma1          0\n",
       " Gamma2          0\n",
       "Activity_Name    0\n",
       "dtype: int64"
      ]
     },
     "execution_count": 278,
     "metadata": {},
     "output_type": "execute_result"
    }
   ],
   "source": [
    "Data.isnull().sum()"
   ]
  },
  {
   "cell_type": "code",
   "execution_count": 279,
   "metadata": {},
   "outputs": [],
   "source": [
    "LabelEncoder = preprocessing.LabelEncoder()"
   ]
  },
  {
   "cell_type": "code",
   "execution_count": 280,
   "metadata": {},
   "outputs": [],
   "source": [
    "Data['Activity_Name'] = LabelEncoder.fit_transform(Data['Activity_Name'].astype(str))"
   ]
  },
  {
   "cell_type": "code",
   "execution_count": 281,
   "metadata": {},
   "outputs": [
    {
     "data": {
      "text/plain": [
       "array([0, 1, 2, 3])"
      ]
     },
     "execution_count": 281,
     "metadata": {},
     "output_type": "execute_result"
    }
   ],
   "source": [
    "X = Data.drop(['Activity_Name'],axis=1)\n",
    "Y = Data['Activity_Name']\n",
    "Data['Activity_Name'].unique()"
   ]
  },
  {
   "cell_type": "code",
   "execution_count": null,
   "metadata": {},
   "outputs": [],
   "source": []
  },
  {
   "cell_type": "code",
   "execution_count": 282,
   "metadata": {},
   "outputs": [
    {
     "data": {
      "text/plain": [
       "447"
      ]
     },
     "execution_count": 282,
     "metadata": {},
     "output_type": "execute_result"
    }
   ],
   "source": [
    "m=len(X)\n",
    "m"
   ]
  },
  {
   "cell_type": "code",
   "execution_count": 283,
   "metadata": {},
   "outputs": [
    {
     "data": {
      "text/plain": [
       "(447, 8)"
      ]
     },
     "execution_count": 283,
     "metadata": {},
     "output_type": "execute_result"
    }
   ],
   "source": [
    "X.shape"
   ]
  },
  {
   "cell_type": "code",
   "execution_count": 284,
   "metadata": {},
   "outputs": [],
   "source": [
    "#min_max_scaler = preprocessing.MinMaxScaler()\n",
    "#X = min_max_scaler.fit_transform(X)"
   ]
  },
  {
   "cell_type": "code",
   "execution_count": 285,
   "metadata": {},
   "outputs": [],
   "source": [
    "standard_scaler = preprocessing.StandardScaler()\n",
    "X = standard_scaler.fit_transform(X)"
   ]
  },
  {
   "cell_type": "markdown",
   "metadata": {},
   "source": [
    "# Independent Variable X"
   ]
  },
  {
   "cell_type": "code",
   "execution_count": 286,
   "metadata": {},
   "outputs": [
    {
     "data": {
      "text/plain": [
       "array([[ 0.706433  ,  5.58214157, -0.36293352, ...,  0.22960968,\n",
       "         1.40644614,  2.6278816 ],\n",
       "       [-0.50100661, -0.2634066 ,  0.18860505, ..., -0.16702791,\n",
       "        -0.49839096, -0.65670731],\n",
       "       [ 0.68924537, -0.15245595,  0.19743645, ..., -0.30013722,\n",
       "         0.08622757, -0.47127564],\n",
       "       ...,\n",
       "       [-0.41425064, -0.49981018, -0.61335648, ..., -0.47176627,\n",
       "        -0.6989898 , -0.80722003],\n",
       "       [-0.80045041, -0.06875876, -0.25863199, ...,  0.23157087,\n",
       "        -0.28096909, -0.39220629],\n",
       "       [-0.63499245, -0.30543296, -0.27364744, ..., -0.36782333,\n",
       "        -0.67570727, -0.77792022]])"
      ]
     },
     "execution_count": 286,
     "metadata": {},
     "output_type": "execute_result"
    }
   ],
   "source": [
    "X"
   ]
  },
  {
   "cell_type": "markdown",
   "metadata": {},
   "source": [
    "# Dependent Variable Y"
   ]
  },
  {
   "cell_type": "code",
   "execution_count": 287,
   "metadata": {},
   "outputs": [
    {
     "data": {
      "text/plain": [
       "0      0\n",
       "1      0\n",
       "2      0\n",
       "3      0\n",
       "4      0\n",
       "      ..\n",
       "442    3\n",
       "443    3\n",
       "444    3\n",
       "445    3\n",
       "446    3\n",
       "Name: Activity_Name, Length: 447, dtype: int32"
      ]
     },
     "execution_count": 287,
     "metadata": {},
     "output_type": "execute_result"
    }
   ],
   "source": [
    "Y"
   ]
  },
  {
   "cell_type": "code",
   "execution_count": 288,
   "metadata": {},
   "outputs": [],
   "source": [
    "Model=LogisticRegression()"
   ]
  },
  {
   "cell_type": "code",
   "execution_count": 289,
   "metadata": {},
   "outputs": [
    {
     "name": "stdout",
     "output_type": "stream",
     "text": [
      "<class 'pandas.core.frame.DataFrame'>\n",
      "Int64Index: 447 entries, 0 to 446\n",
      "Data columns (total 9 columns):\n",
      " #   Column         Non-Null Count  Dtype  \n",
      "---  ------         --------------  -----  \n",
      " 0    Delta         447 non-null    float64\n",
      " 1    Theta         447 non-null    float64\n",
      " 2    Alpha1        447 non-null    float64\n",
      " 3    Alpha2        447 non-null    float64\n",
      " 4    Beta1         447 non-null    float64\n",
      " 5    Beta2         447 non-null    float64\n",
      " 6    Gamma1        447 non-null    float64\n",
      " 7    Gamma2        447 non-null    float64\n",
      " 8   Activity_Name  447 non-null    int32  \n",
      "dtypes: float64(8), int32(1)\n",
      "memory usage: 33.2 KB\n"
     ]
    }
   ],
   "source": [
    "Data.info()"
   ]
  },
  {
   "cell_type": "code",
   "execution_count": 290,
   "metadata": {},
   "outputs": [
    {
     "data": {
      "text/plain": [
       "<AxesSubplot:>"
      ]
     },
     "execution_count": 290,
     "metadata": {},
     "output_type": "execute_result"
    },
    {
     "data": {
      "image/png": "[encoded data removed]",
      "text/plain": [
       "<Figure size 432x288 with 1 Axes>"
      ]
     },
     "metadata": {
      "needs_background": "light"
     },
     "output_type": "display_data"
    }
   ],
   "source": [
    "sns.heatmap(Data.isnull(),yticklabels=False,cmap='viridis',cbar=False)"
   ]
  },
  {
   "cell_type": "code",
   "execution_count": 291,
   "metadata": {},
   "outputs": [
    {
     "data": {
      "text/plain": [
       "<AxesSubplot:>"
      ]
     },
     "execution_count": 291,
     "metadata": {},
     "output_type": "execute_result"
    },
    {
     "data": {
      "image/png": "[encoded data removed]",
      "text/plain": [
       "<Figure size 864x432 with 1 Axes>"
      ]
     },
     "metadata": {
      "needs_background": "light"
     },
     "output_type": "display_data"
    }
   ],
   "source": [
    "Data['Activity_Name'].hist(bins=40,color=\"green\",alpha=0.7,figsize=(12,6))"
   ]
  },
  {
   "cell_type": "code",
   "execution_count": 292,
   "metadata": {},
   "outputs": [
    {
     "name": "stderr",
     "output_type": "stream",
     "text": [
      "c:\\users\\grace\\appdata\\local\\programs\\python\\python38\\lib\\site-packages\\seaborn\\_decorators.py:36: FutureWarning: Pass the following variable as a keyword arg: x. From version 0.12, the only valid positional argument will be `data`, and passing other arguments without an explicit keyword will result in an error or misinterpretation.\n",
      "  warnings.warn(\n"
     ]
    },
    {
     "data": {
      "image/png": "[encoded data removed]",
      "text/plain": [
       "<Figure size 432x288 with 1 Axes>"
      ]
     },
     "metadata": {
      "needs_background": "light"
     },
     "output_type": "display_data"
    }
   ],
   "source": [
    "sns.countplot(Data['Activity_Name'],label=\"count\")\n",
    "plt.show()"
   ]
  },
  {
   "cell_type": "code",
   "execution_count": 293,
   "metadata": {},
   "outputs": [],
   "source": [
    "from matplotlib import cm"
   ]
  },
  {
   "cell_type": "code",
   "execution_count": 294,
   "metadata": {},
   "outputs": [
    {
     "data": {
      "image/png": "[encoded data removed]",
      "text/plain": [
       "<Figure size 720x720 with 9 Axes>"
      ]
     },
     "metadata": {
      "needs_background": "light"
     },
     "output_type": "display_data"
    }
   ],
   "source": [
    "import pylab as pl\n",
    "\n",
    "# To create a histogram, we will use pandas hist() method.\n",
    "Data.drop('Activity_Name', axis=1).hist(bins=30, figsize=(10,10), color = \"c\")\n",
    "plt.suptitle(\"Histogram for each numeric input variable\")\n",
    "plt.savefig('Data_histogram')\n",
    "plt.show()"
   ]
  },
  {
   "cell_type": "code",
   "execution_count": 295,
   "metadata": {},
   "outputs": [
    {
     "data": {
      "text/plain": [
       "False"
      ]
     },
     "execution_count": 295,
     "metadata": {},
     "output_type": "execute_result"
    }
   ],
   "source": [
    "np.any(np.isnan(X))"
   ]
  },
  {
   "cell_type": "code",
   "execution_count": 296,
   "metadata": {},
   "outputs": [
    {
     "data": {
      "text/plain": [
       "True"
      ]
     },
     "execution_count": 296,
     "metadata": {},
     "output_type": "execute_result"
    }
   ],
   "source": [
    "np.all(np.isfinite(X))"
   ]
  },
  {
   "cell_type": "code",
   "execution_count": 297,
   "metadata": {},
   "outputs": [
    {
     "data": {
      "text/plain": [
       "(447, 8)"
      ]
     },
     "execution_count": 297,
     "metadata": {},
     "output_type": "execute_result"
    }
   ],
   "source": [
    "X.shape"
   ]
  },
  {
   "cell_type": "code",
   "execution_count": 298,
   "metadata": {},
   "outputs": [
    {
     "data": {
      "text/plain": [
       "(447,)"
      ]
     },
     "execution_count": 298,
     "metadata": {},
     "output_type": "execute_result"
    }
   ],
   "source": [
    "Y.shape"
   ]
  },
  {
   "cell_type": "code",
   "execution_count": 299,
   "metadata": {},
   "outputs": [],
   "source": [
    "from sklearn.model_selection import train_test_split\n",
    "X_train, X_test,y_train, y_test=train_test_split(X,Y,test_size=0.20,random_state=42)"
   ]
  },
  {
   "cell_type": "code",
   "execution_count": 300,
   "metadata": {},
   "outputs": [],
   "source": [
    "fitting=Model.fit(X_train,y_train)"
   ]
  },
  {
   "cell_type": "code",
   "execution_count": 301,
   "metadata": {},
   "outputs": [],
   "source": [
    "Y_prediction=Model.predict(X_test)"
   ]
  },
  {
   "cell_type": "code",
   "execution_count": 302,
   "metadata": {},
   "outputs": [
    {
     "data": {
      "text/plain": [
       "array([2, 1, 1, 1, 0, 0, 2, 0, 2, 1, 0, 2, 2, 1, 1, 2, 0, 1, 0, 1, 1, 0,\n",
       "       3, 0, 1, 1, 0, 2, 2, 1, 3, 1, 0, 1, 1, 1, 2, 0, 2, 2, 1, 1, 1, 3,\n",
       "       1, 0, 0, 1, 0, 0, 0, 1, 2, 1, 0, 1, 1, 0, 1, 0, 2, 2, 1, 0, 1, 1,\n",
       "       1, 3, 1, 3, 3, 1, 2, 2, 0, 1, 3, 1, 1, 0, 0, 0, 0, 0, 2, 1, 1, 0,\n",
       "       1, 2])"
      ]
     },
     "execution_count": 302,
     "metadata": {},
     "output_type": "execute_result"
    }
   ],
   "source": [
    "Y_prediction"
   ]
  },
  {
   "cell_type": "markdown",
   "metadata": {},
   "source": [
    "# Accuracy of Model=Logistic Regression"
   ]
  },
  {
   "cell_type": "code",
   "execution_count": 303,
   "metadata": {},
   "outputs": [
    {
     "name": "stdout",
     "output_type": "stream",
     "text": [
      "38.89 % Accuracy\n"
     ]
    }
   ],
   "source": [
    "acc_score = round(accuracy_score(y_test, Y_prediction)*100,2)\n",
    "print(acc_score,'% Accuracy')"
   ]
  },
  {
   "cell_type": "markdown",
   "metadata": {},
   "source": [
    "# Support Vector Machine, SVM"
   ]
  },
  {
   "cell_type": "code",
   "execution_count": 304,
   "metadata": {},
   "outputs": [],
   "source": [
    "from sklearn.model_selection import train_test_split"
   ]
  },
  {
   "cell_type": "code",
   "execution_count": 305,
   "metadata": {},
   "outputs": [],
   "source": [
    "from sklearn import svm"
   ]
  },
  {
   "cell_type": "code",
   "execution_count": 306,
   "metadata": {},
   "outputs": [],
   "source": [
    "X_train,X_test,y_train,y_test=train_test_split(X,Y,test_size=0.2)"
   ]
  },
  {
   "cell_type": "code",
   "execution_count": 307,
   "metadata": {},
   "outputs": [
    {
     "data": {
      "text/plain": [
       "array([[-0.7135825 , -0.48805659, -0.19662604, ..., -0.41790905,\n",
       "        -0.50634109, -0.47047291],\n",
       "       [-0.50319659, -0.54289781, -0.43052373, ..., -0.02177432,\n",
       "        -0.50726388, -0.73517461],\n",
       "       [-0.59167494, -0.47527358, -0.58938553, ..., -0.07284063,\n",
       "         0.07295369, -0.18891378],\n",
       "       ...,\n",
       "       [-0.66752797, -0.46279833, -0.51130933, ..., -0.42173085,\n",
       "        -0.58108652, -0.73958965],\n",
       "       [-0.2073492 , -0.58722182, -0.60098838, ..., -0.07565669,\n",
       "        -0.56405053, -0.59951248],\n",
       "       [-0.37033373,  0.06069516, -0.16460963, ...,  0.36508248,\n",
       "         0.10801945, -0.13071553]])"
      ]
     },
     "execution_count": 307,
     "metadata": {},
     "output_type": "execute_result"
    }
   ],
   "source": [
    "X_train"
   ]
  },
  {
   "cell_type": "code",
   "execution_count": 308,
   "metadata": {},
   "outputs": [
    {
     "data": {
      "text/plain": [
       "234    2\n",
       "432    3\n",
       "356    3\n",
       "59     0\n",
       "65     0\n",
       "      ..\n",
       "297    2\n",
       "296    2\n",
       "249    2\n",
       "56     0\n",
       "262    2\n",
       "Name: Activity_Name, Length: 357, dtype: int32"
      ]
     },
     "execution_count": 308,
     "metadata": {},
     "output_type": "execute_result"
    }
   ],
   "source": [
    "y_train"
   ]
  },
  {
   "cell_type": "code",
   "execution_count": 309,
   "metadata": {},
   "outputs": [],
   "source": [
    "model=svm.SVC()"
   ]
  },
  {
   "cell_type": "code",
   "execution_count": 310,
   "metadata": {},
   "outputs": [
    {
     "data": {
      "text/plain": [
       "SVC()"
      ]
     },
     "execution_count": 310,
     "metadata": {},
     "output_type": "execute_result"
    }
   ],
   "source": [
    "model.fit(X_train,y_train)"
   ]
  },
  {
   "cell_type": "code",
   "execution_count": 311,
   "metadata": {},
   "outputs": [
    {
     "data": {
      "text/plain": [
       "array([0, 2, 2, 2, 2, 0, 1, 2, 1, 1, 1, 0, 1, 1, 1, 1, 0, 1, 1, 1, 1, 1,\n",
       "       2, 1, 1, 2, 1, 1, 1, 1, 1, 3, 3, 0, 1, 2, 1, 1, 3, 1, 1, 0, 1, 0,\n",
       "       1, 1, 0, 2, 2, 1, 1, 1, 0, 3, 1, 1, 0, 0, 0, 2, 1, 0, 1, 1, 1, 1,\n",
       "       1, 1, 1, 0, 3, 1, 3, 1, 1, 2, 1, 1, 0, 0, 2, 1, 0, 1, 1, 1, 1, 1,\n",
       "       1, 0])"
      ]
     },
     "execution_count": 311,
     "metadata": {},
     "output_type": "execute_result"
    }
   ],
   "source": [
    "prediction=model.predict(X_test)\n",
    "prediction"
   ]
  },
  {
   "cell_type": "code",
   "execution_count": 312,
   "metadata": {},
   "outputs": [
    {
     "data": {
      "text/plain": [
       "322    2\n",
       "427    3\n",
       "212    1\n",
       "267    2\n",
       "171    1\n",
       "      ..\n",
       "443    3\n",
       "182    1\n",
       "240    2\n",
       "388    3\n",
       "36     0\n",
       "Name: Activity_Name, Length: 90, dtype: int32"
      ]
     },
     "execution_count": 312,
     "metadata": {},
     "output_type": "execute_result"
    }
   ],
   "source": [
    "y_test"
   ]
  },
  {
   "cell_type": "markdown",
   "metadata": {},
   "source": [
    "# Accuracy of Model SVM=Support Vector Machine"
   ]
  },
  {
   "cell_type": "code",
   "execution_count": 313,
   "metadata": {},
   "outputs": [
    {
     "name": "stdout",
     "output_type": "stream",
     "text": [
      "27.78 % Accuracy\n"
     ]
    }
   ],
   "source": [
    "acc_score = round(accuracy_score(y_test, prediction)*100,2)\n",
    "print(acc_score,'% Accuracy')"
   ]
  },
  {
   "cell_type": "markdown",
   "metadata": {},
   "source": [
    "# Random Forest, Machine Learning"
   ]
  },
  {
   "cell_type": "code",
   "execution_count": 314,
   "metadata": {},
   "outputs": [],
   "source": [
    "from sklearn.neighbors import KNeighborsClassifier"
   ]
  },
  {
   "cell_type": "code",
   "execution_count": 315,
   "metadata": {},
   "outputs": [],
   "source": [
    "KNN=KNeighborsClassifier(n_neighbors=5)"
   ]
  },
  {
   "cell_type": "code",
   "execution_count": 316,
   "metadata": {},
   "outputs": [
    {
     "data": {
      "text/plain": [
       "KNeighborsClassifier()"
      ]
     },
     "execution_count": 316,
     "metadata": {},
     "output_type": "execute_result"
    }
   ],
   "source": [
    "KNN.fit(X_train,y_train)"
   ]
  },
  {
   "cell_type": "markdown",
   "metadata": {},
   "source": [
    "# Accuracy on training Data"
   ]
  },
  {
   "cell_type": "code",
   "execution_count": 317,
   "metadata": {},
   "outputs": [
    {
     "data": {
      "text/plain": [
       "59.943977591036415"
      ]
     },
     "execution_count": 317,
     "metadata": {},
     "output_type": "execute_result"
    }
   ],
   "source": [
    "KNN.score(X_train,y_train)*100"
   ]
  },
  {
   "cell_type": "markdown",
   "metadata": {},
   "source": [
    "# Accuracy on Testing Data"
   ]
  },
  {
   "cell_type": "code",
   "execution_count": 318,
   "metadata": {},
   "outputs": [
    {
     "data": {
      "text/plain": [
       "30.0"
      ]
     },
     "execution_count": 318,
     "metadata": {},
     "output_type": "execute_result"
    }
   ],
   "source": [
    "KNN.score(X_test,y_test)*100"
   ]
  },
  {
   "cell_type": "markdown",
   "metadata": {},
   "source": [
    "# Navie Bayes, Machine Learning Model"
   ]
  }
 ],
 "metadata": {
  "kernelspec": {
   "display_name": "Python 3",
   "language": "python",
   "name": "python3"
  },
  "language_info": {
   "codemirror_mode": {
    "name": "ipython",
    "version": 3
   },
   "file_extension": ".py",
   "mimetype": "text/x-python",
   "name": "python",
   "nbconvert_exporter": "python",
   "pygments_lexer": "ipython3",
   "version": "3.8.0"
  }
 },
 "nbformat": 4,
 "nbformat_minor": 4
}
