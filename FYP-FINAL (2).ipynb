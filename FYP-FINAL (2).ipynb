{
 "cells": [
  {
   "cell_type": "markdown",
   "metadata": {},
   "source": [
    "# Logistics Regression,Machine Learning"
   ]
  },
  {
   "cell_type": "code",
   "execution_count": 57,
   "metadata": {},
   "outputs": [],
   "source": [
    "import pandas as pd\n",
    "from sklearn.linear_model import LogisticRegression\n",
    "from sklearn.metrics import accuracy_score\n",
    "from sklearn import preprocessing\n",
    "import seaborn as sns\n",
    "import numpy as np\n",
    "from matplotlib import pyplot as plt\n",
    "from pandas.plotting import scatter_matrix"
   ]
  },
  {
   "cell_type": "code",
   "execution_count": 104,
   "metadata": {},
   "outputs": [
    {
     "data": {
      "text/html": [
       "<div>\n",
       "<style scoped>\n",
       "    .dataframe tbody tr th:only-of-type {\n",
       "        vertical-align: middle;\n",
       "    }\n",
       "\n",
       "    .dataframe tbody tr th {\n",
       "        vertical-align: top;\n",
       "    }\n",
       "\n",
       "    .dataframe thead th {\n",
       "        text-align: right;\n",
       "    }\n",
       "</style>\n",
       "<table border=\"1\" class=\"dataframe\">\n",
       "  <thead>\n",
       "    <tr style=\"text-align: right;\">\n",
       "      <th></th>\n",
       "      <th>Delta</th>\n",
       "      <th>Theta</th>\n",
       "      <th>Alpha1</th>\n",
       "      <th>Alpha2</th>\n",
       "      <th>Beta1</th>\n",
       "      <th>Beta2</th>\n",
       "      <th>Gamma1</th>\n",
       "      <th>Gamma2</th>\n",
       "      <th>Activity_Name</th>\n",
       "    </tr>\n",
       "  </thead>\n",
       "  <tbody>\n",
       "    <tr>\n",
       "      <th>0</th>\n",
       "      <td>139559</td>\n",
       "      <td>45567</td>\n",
       "      <td>8773</td>\n",
       "      <td>17471</td>\n",
       "      <td>24624</td>\n",
       "      <td>6556</td>\n",
       "      <td>2584</td>\n",
       "      <td>11550</td>\n",
       "      <td>Stationary</td>\n",
       "    </tr>\n",
       "    <tr>\n",
       "      <th>1</th>\n",
       "      <td>444535</td>\n",
       "      <td>99703</td>\n",
       "      <td>5699</td>\n",
       "      <td>22056</td>\n",
       "      <td>43233</td>\n",
       "      <td>5919</td>\n",
       "      <td>5422</td>\n",
       "      <td>11393</td>\n",
       "      <td>Stationary</td>\n",
       "    </tr>\n",
       "    <tr>\n",
       "      <th>2</th>\n",
       "      <td>194551</td>\n",
       "      <td>135641</td>\n",
       "      <td>22018</td>\n",
       "      <td>21954</td>\n",
       "      <td>26301</td>\n",
       "      <td>6838</td>\n",
       "      <td>5853</td>\n",
       "      <td>18788</td>\n",
       "      <td>Stationary</td>\n",
       "    </tr>\n",
       "    <tr>\n",
       "      <th>3</th>\n",
       "      <td>44358</td>\n",
       "      <td>65511</td>\n",
       "      <td>4610</td>\n",
       "      <td>1958</td>\n",
       "      <td>3623</td>\n",
       "      <td>10555</td>\n",
       "      <td>5731</td>\n",
       "      <td>9016</td>\n",
       "      <td>Stationary</td>\n",
       "    </tr>\n",
       "    <tr>\n",
       "      <th>4</th>\n",
       "      <td>35560</td>\n",
       "      <td>14786</td>\n",
       "      <td>1089</td>\n",
       "      <td>4297</td>\n",
       "      <td>4020</td>\n",
       "      <td>1390</td>\n",
       "      <td>2699</td>\n",
       "      <td>3831</td>\n",
       "      <td>Stationary</td>\n",
       "    </tr>\n",
       "    <tr>\n",
       "      <th>5</th>\n",
       "      <td>102978</td>\n",
       "      <td>39628</td>\n",
       "      <td>1795</td>\n",
       "      <td>2808</td>\n",
       "      <td>4602</td>\n",
       "      <td>4356</td>\n",
       "      <td>1209</td>\n",
       "      <td>2812</td>\n",
       "      <td>Stationary</td>\n",
       "    </tr>\n",
       "    <tr>\n",
       "      <th>6</th>\n",
       "      <td>612375</td>\n",
       "      <td>100998</td>\n",
       "      <td>19267</td>\n",
       "      <td>18902</td>\n",
       "      <td>15198</td>\n",
       "      <td>21613</td>\n",
       "      <td>9529</td>\n",
       "      <td>12111</td>\n",
       "      <td>Stationary</td>\n",
       "    </tr>\n",
       "    <tr>\n",
       "      <th>7</th>\n",
       "      <td>100102</td>\n",
       "      <td>9309</td>\n",
       "      <td>7601</td>\n",
       "      <td>3599</td>\n",
       "      <td>2605</td>\n",
       "      <td>4976</td>\n",
       "      <td>1271</td>\n",
       "      <td>4491</td>\n",
       "      <td>Stationary</td>\n",
       "    </tr>\n",
       "    <tr>\n",
       "      <th>8</th>\n",
       "      <td>4043</td>\n",
       "      <td>21502</td>\n",
       "      <td>2852</td>\n",
       "      <td>929</td>\n",
       "      <td>3216</td>\n",
       "      <td>2895</td>\n",
       "      <td>1221</td>\n",
       "      <td>698</td>\n",
       "      <td>Stationary</td>\n",
       "    </tr>\n",
       "    <tr>\n",
       "      <th>9</th>\n",
       "      <td>1392195</td>\n",
       "      <td>201865</td>\n",
       "      <td>32314</td>\n",
       "      <td>19425</td>\n",
       "      <td>12570</td>\n",
       "      <td>10177</td>\n",
       "      <td>5614</td>\n",
       "      <td>4414</td>\n",
       "      <td>Stationary</td>\n",
       "    </tr>\n",
       "  </tbody>\n",
       "</table>\n",
       "</div>"
      ],
      "text/plain": [
       "     Delta   Theta   Alpha1   Alpha2   Beta1   Beta2   Gamma1   Gamma2  \\\n",
       "0   139559   45567     8773    17471   24624    6556     2584    11550   \n",
       "1   444535   99703     5699    22056   43233    5919     5422    11393   \n",
       "2   194551  135641    22018    21954   26301    6838     5853    18788   \n",
       "3    44358   65511     4610     1958    3623   10555     5731     9016   \n",
       "4    35560   14786     1089     4297    4020    1390     2699     3831   \n",
       "5   102978   39628     1795     2808    4602    4356     1209     2812   \n",
       "6   612375  100998    19267    18902   15198   21613     9529    12111   \n",
       "7   100102    9309     7601     3599    2605    4976     1271     4491   \n",
       "8     4043   21502     2852      929    3216    2895     1221      698   \n",
       "9  1392195  201865    32314    19425   12570   10177     5614     4414   \n",
       "\n",
       "  Activity_Name  \n",
       "0    Stationary  \n",
       "1    Stationary  \n",
       "2    Stationary  \n",
       "3    Stationary  \n",
       "4    Stationary  \n",
       "5    Stationary  \n",
       "6    Stationary  \n",
       "7    Stationary  \n",
       "8    Stationary  \n",
       "9    Stationary  "
      ]
     },
     "execution_count": 104,
     "metadata": {},
     "output_type": "execute_result"
    }
   ],
   "source": [
    "#Reading DataFrame.\n",
    "Data=pd.read_csv('Desktop/EEG0.csv')\n",
    "Data.head(10)"
   ]
  },
  {
   "cell_type": "code",
   "execution_count": 105,
   "metadata": {},
   "outputs": [
    {
     "name": "stdout",
     "output_type": "stream",
     "text": [
      "<class 'pandas.core.frame.DataFrame'>\n",
      "RangeIndex: 8280 entries, 0 to 8279\n",
      "Data columns (total 9 columns):\n",
      " #   Column         Non-Null Count  Dtype \n",
      "---  ------         --------------  ----- \n",
      " 0    Delta         8280 non-null   int64 \n",
      " 1    Theta         8280 non-null   int64 \n",
      " 2    Alpha1        8280 non-null   int64 \n",
      " 3    Alpha2        8280 non-null   int64 \n",
      " 4    Beta1         8280 non-null   int64 \n",
      " 5    Beta2         8280 non-null   int64 \n",
      " 6    Gamma1        8280 non-null   int64 \n",
      " 7    Gamma2        8280 non-null   int64 \n",
      " 8   Activity_Name  8280 non-null   object\n",
      "dtypes: int64(8), object(1)\n",
      "memory usage: 582.3+ KB\n"
     ]
    }
   ],
   "source": [
    "Data.info()"
   ]
  },
  {
   "cell_type": "code",
   "execution_count": 106,
   "metadata": {},
   "outputs": [
    {
     "data": {
      "text/plain": [
       "array(['Stationary', 'Intense Ambulatory', 'Light Ambulatory'],\n",
       "      dtype=object)"
      ]
     },
     "execution_count": 106,
     "metadata": {},
     "output_type": "execute_result"
    }
   ],
   "source": [
    "Data['Activity_Name'].unique()"
   ]
  },
  {
   "cell_type": "code",
   "execution_count": 61,
   "metadata": {},
   "outputs": [
    {
     "data": {
      "text/plain": [
       " Delta           0\n",
       " Theta           0\n",
       " Alpha1          0\n",
       " Alpha2          0\n",
       " Beta1           0\n",
       " Beta2           0\n",
       " Gamma1          0\n",
       " Gamma2          0\n",
       "Activity_Name    0\n",
       "dtype: int64"
      ]
     },
     "execution_count": 61,
     "metadata": {},
     "output_type": "execute_result"
    }
   ],
   "source": [
    "Data.isnull().sum()"
   ]
  },
  {
   "cell_type": "code",
   "execution_count": 62,
   "metadata": {},
   "outputs": [],
   "source": [
    "Data.dropna(inplace=True)"
   ]
  },
  {
   "cell_type": "code",
   "execution_count": 63,
   "metadata": {},
   "outputs": [
    {
     "data": {
      "text/plain": [
       " Delta           0\n",
       " Theta           0\n",
       " Alpha1          0\n",
       " Alpha2          0\n",
       " Beta1           0\n",
       " Beta2           0\n",
       " Gamma1          0\n",
       " Gamma2          0\n",
       "Activity_Name    0\n",
       "dtype: int64"
      ]
     },
     "execution_count": 63,
     "metadata": {},
     "output_type": "execute_result"
    }
   ],
   "source": [
    "Data.isnull().sum()"
   ]
  },
  {
   "cell_type": "code",
   "execution_count": 64,
   "metadata": {},
   "outputs": [],
   "source": [
    "LabelEncoder = preprocessing.LabelEncoder()"
   ]
  },
  {
   "cell_type": "code",
   "execution_count": 108,
   "metadata": {},
   "outputs": [],
   "source": [
    "Data['Activity_Name'] = LabelEncoder.fit_transform(Data['Activity_Name'].astype(str))"
   ]
  },
  {
   "cell_type": "code",
   "execution_count": 109,
   "metadata": {},
   "outputs": [
    {
     "data": {
      "text/plain": [
       "array([2, 0, 1])"
      ]
     },
     "execution_count": 109,
     "metadata": {},
     "output_type": "execute_result"
    }
   ],
   "source": [
    "X = Data.drop(['Activity_Name'],axis=1)\n",
    "Y = Data['Activity_Name']\n",
    "Data['Activity_Name'].unique()"
   ]
  },
  {
   "cell_type": "code",
   "execution_count": null,
   "metadata": {},
   "outputs": [],
   "source": []
  },
  {
   "cell_type": "code",
   "execution_count": 67,
   "metadata": {},
   "outputs": [
    {
     "data": {
      "text/plain": [
       "8280"
      ]
     },
     "execution_count": 67,
     "metadata": {},
     "output_type": "execute_result"
    }
   ],
   "source": [
    "m=len(X)\n",
    "m"
   ]
  },
  {
   "cell_type": "code",
   "execution_count": 111,
   "metadata": {},
   "outputs": [
    {
     "data": {
      "text/plain": [
       "(8280, 8)"
      ]
     },
     "execution_count": 111,
     "metadata": {},
     "output_type": "execute_result"
    }
   ],
   "source": [
    "X.shape"
   ]
  },
  {
   "cell_type": "code",
   "execution_count": 69,
   "metadata": {},
   "outputs": [],
   "source": [
    "#min_max_scaler = preprocessing.MinMaxScaler()\n",
    "#X = min_max_scaler.fit_transform(X)"
   ]
  },
  {
   "cell_type": "code",
   "execution_count": 112,
   "metadata": {},
   "outputs": [],
   "source": [
    "standard_scaler = preprocessing.StandardScaler()\n",
    "X = standard_scaler.fit_transform(X)"
   ]
  },
  {
   "cell_type": "markdown",
   "metadata": {},
   "source": [
    "# Independent Variable X"
   ]
  },
  {
   "cell_type": "code",
   "execution_count": 113,
   "metadata": {},
   "outputs": [
    {
     "data": {
      "text/plain": [
       "array([[-0.59501661, -0.38812185, -0.40767672, ..., -0.38359818,\n",
       "        -0.5746736 ,  0.5798005 ],\n",
       "       [-0.09934319, -0.14372638, -0.44987572, ..., -0.39395221,\n",
       "        -0.41871285,  0.56460398],\n",
       "       [-0.50563884,  0.01851473, -0.22585311, ..., -0.37901445,\n",
       "        -0.39502748,  1.28038928],\n",
       "       ...,\n",
       "       [-0.73821736, -0.34913487, -0.22295656, ..., -0.29670232,\n",
       "        -0.44113427,  0.16688094],\n",
       "       [-0.31745341, -0.36560367, -0.38638503, ..., -0.4428291 ,\n",
       "        -0.51570746, -0.34176703],\n",
       "       [-0.60484634, -0.44387107, -0.49208845, ..., -0.45874213,\n",
       "        -0.66556827, -0.41465227]])"
      ]
     },
     "execution_count": 113,
     "metadata": {},
     "output_type": "execute_result"
    }
   ],
   "source": [
    "X"
   ]
  },
  {
   "cell_type": "markdown",
   "metadata": {},
   "source": [
    "# Dependent Variable Y"
   ]
  },
  {
   "cell_type": "code",
   "execution_count": 114,
   "metadata": {},
   "outputs": [
    {
     "data": {
      "text/plain": [
       "0       2\n",
       "1       2\n",
       "2       2\n",
       "3       2\n",
       "4       2\n",
       "       ..\n",
       "8275    1\n",
       "8276    1\n",
       "8277    1\n",
       "8278    1\n",
       "8279    1\n",
       "Name: Activity_Name, Length: 8280, dtype: int32"
      ]
     },
     "execution_count": 114,
     "metadata": {},
     "output_type": "execute_result"
    }
   ],
   "source": [
    "Y"
   ]
  },
  {
   "cell_type": "code",
   "execution_count": 115,
   "metadata": {},
   "outputs": [],
   "source": [
    "Model=LogisticRegression()"
   ]
  },
  {
   "cell_type": "code",
   "execution_count": 116,
   "metadata": {},
   "outputs": [
    {
     "name": "stdout",
     "output_type": "stream",
     "text": [
      "<class 'pandas.core.frame.DataFrame'>\n",
      "RangeIndex: 8280 entries, 0 to 8279\n",
      "Data columns (total 9 columns):\n",
      " #   Column         Non-Null Count  Dtype\n",
      "---  ------         --------------  -----\n",
      " 0    Delta         8280 non-null   int64\n",
      " 1    Theta         8280 non-null   int64\n",
      " 2    Alpha1        8280 non-null   int64\n",
      " 3    Alpha2        8280 non-null   int64\n",
      " 4    Beta1         8280 non-null   int64\n",
      " 5    Beta2         8280 non-null   int64\n",
      " 6    Gamma1        8280 non-null   int64\n",
      " 7    Gamma2        8280 non-null   int64\n",
      " 8   Activity_Name  8280 non-null   int32\n",
      "dtypes: int32(1), int64(8)\n",
      "memory usage: 550.0 KB\n"
     ]
    }
   ],
   "source": [
    "Data.info()"
   ]
  },
  {
   "cell_type": "code",
   "execution_count": 117,
   "metadata": {},
   "outputs": [
    {
     "data": {
      "text/plain": [
       "<AxesSubplot:>"
      ]
     },
     "execution_count": 117,
     "metadata": {},
     "output_type": "execute_result"
    },
    {
     "data": {
      "image/png": "[encoded data removed]",
      "text/plain": [
       "<Figure size 432x288 with 1 Axes>"
      ]
     },
     "metadata": {
      "needs_background": "light"
     },
     "output_type": "display_data"
    }
   ],
   "source": [
    "sns.heatmap(Data.isnull(),yticklabels=False,cmap='viridis',cbar=False)"
   ]
  },
  {
   "cell_type": "code",
   "execution_count": 118,
   "metadata": {},
   "outputs": [
    {
     "data": {
      "text/plain": [
       "<AxesSubplot:>"
      ]
     },
     "execution_count": 118,
     "metadata": {},
     "output_type": "execute_result"
    },
    {
     "data": {
      "image/png": "[encoded data removed]",
      "text/plain": [
       "<Figure size 864x432 with 1 Axes>"
      ]
     },
     "metadata": {
      "needs_background": "light"
     },
     "output_type": "display_data"
    }
   ],
   "source": [
    "Data['Activity_Name'].hist(bins=40,color=\"green\",alpha=0.7,figsize=(12,6))"
   ]
  },
  {
   "cell_type": "code",
   "execution_count": 77,
   "metadata": {},
   "outputs": [
    {
     "name": "stderr",
     "output_type": "stream",
     "text": [
      "c:\\users\\grace\\appdata\\local\\programs\\python\\python38\\lib\\site-packages\\seaborn\\_decorators.py:36: FutureWarning: Pass the following variable as a keyword arg: x. From version 0.12, the only valid positional argument will be `data`, and passing other arguments without an explicit keyword will result in an error or misinterpretation.\n",
      "  warnings.warn(\n"
     ]
    },
    {
     "data": {
      "image/png": "[encoded data removed]",
      "text/plain": [
       "<Figure size 432x288 with 1 Axes>"
      ]
     },
     "metadata": {
      "needs_background": "light"
     },
     "output_type": "display_data"
    }
   ],
   "source": [
    "sns.countplot(Data['Activity_Name'],label=\"count\")\n",
    "plt.show()"
   ]
  },
  {
   "cell_type": "code",
   "execution_count": 119,
   "metadata": {},
   "outputs": [],
   "source": [
    "from matplotlib import cm"
   ]
  },
  {
   "cell_type": "code",
   "execution_count": 120,
   "metadata": {},
   "outputs": [
    {
     "data": {
      "image/png": "[encoded data removed]",
      "text/plain": [
       "<Figure size 720x720 with 9 Axes>"
      ]
     },
     "metadata": {
      "needs_background": "light"
     },
     "output_type": "display_data"
    }
   ],
   "source": [
    "import pylab as pl\n",
    "\n",
    "# To create a histogram, we will use pandas hist() method.\n",
    "Data.drop('Activity_Name', axis=1).hist(bins=30, figsize=(10,10), color = \"c\")\n",
    "plt.suptitle(\"Histogram for each numeric input variable\")\n",
    "plt.savefig('Data_histogram')\n",
    "plt.show()"
   ]
  },
  {
   "cell_type": "code",
   "execution_count": 121,
   "metadata": {},
   "outputs": [
    {
     "data": {
      "text/plain": [
       "False"
      ]
     },
     "execution_count": 121,
     "metadata": {},
     "output_type": "execute_result"
    }
   ],
   "source": [
    "np.any(np.isnan(X))"
   ]
  },
  {
   "cell_type": "code",
   "execution_count": 122,
   "metadata": {},
   "outputs": [
    {
     "data": {
      "text/plain": [
       "True"
      ]
     },
     "execution_count": 122,
     "metadata": {},
     "output_type": "execute_result"
    }
   ],
   "source": [
    "np.all(np.isfinite(X))"
   ]
  },
  {
   "cell_type": "code",
   "execution_count": 123,
   "metadata": {},
   "outputs": [
    {
     "data": {
      "text/plain": [
       "(8280, 8)"
      ]
     },
     "execution_count": 123,
     "metadata": {},
     "output_type": "execute_result"
    }
   ],
   "source": [
    "X.shape"
   ]
  },
  {
   "cell_type": "code",
   "execution_count": 124,
   "metadata": {},
   "outputs": [
    {
     "data": {
      "text/plain": [
       "(8280,)"
      ]
     },
     "execution_count": 124,
     "metadata": {},
     "output_type": "execute_result"
    }
   ],
   "source": [
    "Y.shape"
   ]
  },
  {
   "cell_type": "code",
   "execution_count": 125,
   "metadata": {},
   "outputs": [],
   "source": [
    "from sklearn.model_selection import train_test_split\n",
    "X_train, X_test,y_train, y_test=train_test_split(X,Y,test_size=0.20,random_state=42)"
   ]
  },
  {
   "cell_type": "code",
   "execution_count": 126,
   "metadata": {},
   "outputs": [],
   "source": [
    "fitting=Model.fit(X_train,y_train)"
   ]
  },
  {
   "cell_type": "code",
   "execution_count": 127,
   "metadata": {},
   "outputs": [],
   "source": [
    "Y_prediction=Model.predict(X_test)"
   ]
  },
  {
   "cell_type": "code",
   "execution_count": 128,
   "metadata": {},
   "outputs": [
    {
     "data": {
      "text/plain": [
       "array([2, 0, 0, ..., 2, 0, 0])"
      ]
     },
     "execution_count": 128,
     "metadata": {},
     "output_type": "execute_result"
    }
   ],
   "source": [
    "Y_prediction"
   ]
  },
  {
   "cell_type": "markdown",
   "metadata": {},
   "source": [
    "# Accuracy of Model=Logistic Regression"
   ]
  },
  {
   "cell_type": "code",
   "execution_count": 129,
   "metadata": {},
   "outputs": [
    {
     "name": "stdout",
     "output_type": "stream",
     "text": [
      "72.64 % Accuracy\n"
     ]
    }
   ],
   "source": [
    "acc_score = round(accuracy_score(y_test, Y_prediction)*100,2)\n",
    "print(acc_score,'% Accuracy')"
   ]
  },
  {
   "cell_type": "markdown",
   "metadata": {},
   "source": [
    "# Support Vector Machine, SVM"
   ]
  },
  {
   "cell_type": "code",
   "execution_count": 130,
   "metadata": {},
   "outputs": [],
   "source": [
    "from sklearn.model_selection import train_test_split"
   ]
  },
  {
   "cell_type": "code",
   "execution_count": 131,
   "metadata": {},
   "outputs": [],
   "source": [
    "from sklearn import svm"
   ]
  },
  {
   "cell_type": "code",
   "execution_count": 132,
   "metadata": {},
   "outputs": [],
   "source": [
    "X_train,X_test,y_train,y_test=train_test_split(X,Y,test_size=0.2)"
   ]
  },
  {
   "cell_type": "code",
   "execution_count": 133,
   "metadata": {},
   "outputs": [
    {
     "data": {
      "text/plain": [
       "array([[-0.32380178, -0.30340778, -0.35008894, ..., -0.43509202,\n",
       "        -0.64397117, -0.51057428],\n",
       "       [-0.15533432, -0.05050252, -0.0943004 , ..., -0.28194335,\n",
       "        -0.43305596, -0.13724312],\n",
       "       [-0.70724265, -0.42765057, -0.51263884, ..., -0.2750515 ,\n",
       "         1.09660134,  1.03685773],\n",
       "       ...,\n",
       "       [-0.31769232, -0.0458165 ,  0.05412367, ..., -0.26448616,\n",
       "        -0.50251839, -0.03561031],\n",
       "       [-0.64374595, -0.5615408 , -0.52347001, ..., -0.44858315,\n",
       "        -0.54516305, -0.46905002],\n",
       "       [ 0.0487578 , -0.52110467, -0.33979316, ..., -0.25057242,\n",
       "         0.00861301, -0.33082941]])"
      ]
     },
     "execution_count": 133,
     "metadata": {},
     "output_type": "execute_result"
    }
   ],
   "source": [
    "X_train"
   ]
  },
  {
   "cell_type": "code",
   "execution_count": 134,
   "metadata": {},
   "outputs": [
    {
     "data": {
      "text/plain": [
       "5080    0\n",
       "7244    1\n",
       "3620    2\n",
       "8242    1\n",
       "1533    2\n",
       "       ..\n",
       "1295    2\n",
       "693     2\n",
       "1949    0\n",
       "1459    2\n",
       "5495    2\n",
       "Name: Activity_Name, Length: 6624, dtype: int32"
      ]
     },
     "execution_count": 134,
     "metadata": {},
     "output_type": "execute_result"
    }
   ],
   "source": [
    "y_train"
   ]
  },
  {
   "cell_type": "code",
   "execution_count": 135,
   "metadata": {},
   "outputs": [],
   "source": [
    "model=svm.SVC()"
   ]
  },
  {
   "cell_type": "code",
   "execution_count": 136,
   "metadata": {},
   "outputs": [
    {
     "data": {
      "text/plain": [
       "SVC()"
      ]
     },
     "execution_count": 136,
     "metadata": {},
     "output_type": "execute_result"
    }
   ],
   "source": [
    "model.fit(X_train,y_train)"
   ]
  },
  {
   "cell_type": "code",
   "execution_count": 137,
   "metadata": {},
   "outputs": [
    {
     "data": {
      "text/plain": [
       "array([2, 2, 2, ..., 0, 2, 2])"
      ]
     },
     "execution_count": 137,
     "metadata": {},
     "output_type": "execute_result"
    }
   ],
   "source": [
    "prediction=model.predict(X_test)\n",
    "prediction"
   ]
  },
  {
   "cell_type": "code",
   "execution_count": 138,
   "metadata": {},
   "outputs": [
    {
     "data": {
      "text/plain": [
       "3777    2\n",
       "7108    1\n",
       "2166    0\n",
       "2508    0\n",
       "3181    0\n",
       "       ..\n",
       "504     2\n",
       "1948    0\n",
       "2943    0\n",
       "2201    0\n",
       "627     2\n",
       "Name: Activity_Name, Length: 1656, dtype: int32"
      ]
     },
     "execution_count": 138,
     "metadata": {},
     "output_type": "execute_result"
    }
   ],
   "source": [
    "y_test"
   ]
  },
  {
   "cell_type": "markdown",
   "metadata": {},
   "source": [
    "# Accuracy of Model SVM=Support Vector Machine"
   ]
  },
  {
   "cell_type": "code",
   "execution_count": 139,
   "metadata": {},
   "outputs": [
    {
     "name": "stdout",
     "output_type": "stream",
     "text": [
      "74.7 % Accuracy\n"
     ]
    }
   ],
   "source": [
    "acc_score = round(accuracy_score(y_test, prediction)*100,2)\n",
    "print(acc_score,'% Accuracy')"
   ]
  },
  {
   "cell_type": "markdown",
   "metadata": {},
   "source": [
    "# Random Forest, Machine Learning"
   ]
  },
  {
   "cell_type": "code",
   "execution_count": 140,
   "metadata": {},
   "outputs": [],
   "source": [
    "from sklearn.neighbors import KNeighborsClassifier"
   ]
  },
  {
   "cell_type": "code",
   "execution_count": 141,
   "metadata": {},
   "outputs": [],
   "source": [
    "KNN=KNeighborsClassifier(n_neighbors=5)"
   ]
  },
  {
   "cell_type": "code",
   "execution_count": 142,
   "metadata": {},
   "outputs": [
    {
     "data": {
      "text/plain": [
       "KNeighborsClassifier()"
      ]
     },
     "execution_count": 142,
     "metadata": {},
     "output_type": "execute_result"
    }
   ],
   "source": [
    "KNN.fit(X_train,y_train)"
   ]
  },
  {
   "cell_type": "markdown",
   "metadata": {},
   "source": [
    "# Accuracy on training Data"
   ]
  },
  {
   "cell_type": "code",
   "execution_count": 143,
   "metadata": {},
   "outputs": [
    {
     "data": {
      "text/plain": [
       "80.79710144927536"
      ]
     },
     "execution_count": 143,
     "metadata": {},
     "output_type": "execute_result"
    }
   ],
   "source": [
    "KNN.score(X_train,y_train)*100"
   ]
  },
  {
   "cell_type": "markdown",
   "metadata": {},
   "source": [
    "# Accuracy on Testing Data"
   ]
  },
  {
   "cell_type": "code",
   "execution_count": 144,
   "metadata": {},
   "outputs": [
    {
     "data": {
      "text/plain": [
       "72.04106280193237"
      ]
     },
     "execution_count": 144,
     "metadata": {},
     "output_type": "execute_result"
    }
   ],
   "source": [
    "KNN.score(X_test,y_test)*100"
   ]
  },
  {
   "cell_type": "markdown",
   "metadata": {},
   "source": [
    "# Navie Bayes, Machine Learning Model"
   ]
  }
 ],
 "metadata": {
  "kernelspec": {
   "display_name": "Python 3",
   "language": "python",
   "name": "python3"
  },
  "language_info": {
   "codemirror_mode": {
    "name": "ipython",
    "version": 3
   },
   "file_extension": ".py",
   "mimetype": "text/x-python",
   "name": "python",
   "nbconvert_exporter": "python",
   "pygments_lexer": "ipython3",
   "version": "3.8.0"
  }
 },
 "nbformat": 4,
 "nbformat_minor": 4
}
